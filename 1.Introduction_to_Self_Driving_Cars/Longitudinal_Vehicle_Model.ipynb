{
 "cells": [
  {
   "cell_type": "markdown",
   "metadata": {
    "collapsed": true
   },
   "source": [
    "In this notebook, you will implement the forward longitudinal vehicle model. The model accepts throttle inputs and steps through the longitudinal dynamic equations. Once implemented, you will be given a set of inputs that drives over a small road slope to test your model.\n",
    "\n",
    "The input to the model is a throttle percentage $x_\\theta \\in [0,1]$ which provides torque to the engine and subsequently accelerates the vehicle for forward motion. \n",
    "\n",
    "The dynamic equations consist of many stages to convert throttle inputs to wheel speed (engine -> torque converter -> transmission -> wheel). These stages are bundled together in a single inertia term $J_e$ which is used in the following combined engine dynamic equations.\n",
    "\n",
    "\\begin{align}\n",
    "    J_e \\dot{\\omega}_e &= T_e - (GR)(r_{eff} F_{load}) \\\\ m\\ddot{x} &= F_x - F_{load}\n",
    "\\end{align}\n",
    "\n",
    "Where $T_e$ is the engine torque, $GR$ is the gear ratio, $r_{eff}$ is the effective radius, $m$ is the vehicle mass, $x$ is the vehicle position, $F_x$ is the tire force, and $F_{load}$ is the total load force. \n",
    "\n",
    "The engine torque is computed from the throttle input and the engine angular velocity $\\omega_e$ using a simplified quadratic model. \n",
    "\n",
    "\\begin{align}\n",
    "    T_e = x_{\\theta}(a_0 + a_1 \\omega_e + a_2 \\omega_e^2)\n",
    "\\end{align}\n",
    "\n",
    "The load forces consist of aerodynamic drag $F_{aero}$, rolling friction $R_x$, and gravitational force $F_g$ from an incline at angle $\\alpha$. The aerodynamic drag is a quadratic model and the friction is a linear model.\n",
    "\n",
    "\\begin{align}\n",
    "    F_{load} &= F_{aero} + R_x + F_g \\\\\n",
    "    F_{aero} &= \\frac{1}{2} C_a \\rho A \\dot{x}^2 = c_a \\dot{x}^2\\\\\n",
    "    R_x &= N(\\hat{c}_{r,0} + \\hat{c}_{r,1}|\\dot{x}| + \\hat{c}_{r,2}\\dot{x}^2) \\approx c_{r,1} \\dot{x}\\\\\n",
    "    F_g &= mg\\sin{\\alpha}\n",
    "\\end{align}\n",
    "\n",
    "Note that the absolute value is ignored for friction since the model is used for only forward motion ($\\dot{x} \\ge 0$). \n",
    " \n",
    "The tire force is computed using the engine speed and wheel slip equations.\n",
    "\n",
    "\\begin{align}\n",
    "    \\omega_w &= (GR)\\omega_e \\\\\n",
    "    s &= \\frac{\\omega_w r_e - \\dot{x}}{\\dot{x}}\\\\\n",
    "    F_x &= \\left\\{\\begin{array}{lr}\n",
    "        cs, &  |s| < 1\\\\\n",
    "        F_{max}, & \\text{otherwise}\n",
    "        \\end{array}\\right\\} \n",
    "\\end{align}\n",
    "\n",
    "Where $\\omega_w$ is the wheel angular velocity and $s$ is the slip ratio. \n",
    "\n",
    "We setup the longitudinal model inside a Python class below. The vehicle begins with an initial velocity of 5 m/s and engine speed of 100 rad/s. All the relevant parameters are defined and like the bicycle model, a sampling time of 10ms is used for numerical integration."
   ]
  },
  {
   "cell_type": "code",
   "execution_count": 25,
   "metadata": {},
   "outputs": [],
   "source": [
    "import sys\n",
    "import numpy as np\n",
    "import matplotlib.pyplot as plt\n",
    "import matplotlib.image as mpimg\n",
    "\n",
    "class Vehicle():\n",
    "    def __init__(self):\n",
    " \n",
    "        # ==================================\n",
    "        #  Parameters\n",
    "        # ==================================\n",
    "    \n",
    "        #Throttle to engine torque\n",
    "        self.a_0 = 400\n",
    "        self.a_1 = 0.1\n",
    "        self.a_2 = -0.0002\n",
    "        \n",
    "        # Gear ratio, effective radius, mass + inertia\n",
    "        self.GR = 0.35\n",
    "        self.r_e = 0.3\n",
    "        self.J_e = 10\n",
    "        self.m = 2000\n",
    "        self.g = 9.81\n",
    "        \n",
    "        # Aerodynamic and friction coefficients\n",
    "        self.c_a = 1.36\n",
    "        self.c_r1 = 0.01\n",
    "        \n",
    "        # Tire force \n",
    "        self.c = 10000\n",
    "        self.F_max = 10000\n",
    "        \n",
    "        # State variables\n",
    "        self.x = 0\n",
    "        self.v = 5\n",
    "        self.a = 0\n",
    "        self.w_e = 100\n",
    "        self.w_e_dot = 0\n",
    "        \n",
    "        self.sample_time = 0.01\n",
    "        \n",
    "    def reset(self):\n",
    "        # reset state variables\n",
    "        self.x = 0\n",
    "        self.v = 5\n",
    "        self.a = 0\n",
    "        self.w_e = 100\n",
    "        self.w_e_dot = 0"
   ]
  },
  {
   "cell_type": "markdown",
   "metadata": {},
   "source": [
    "Implement the combined engine dynamic equations along with the force equations in the cell below. The function $\\textit{step}$ takes the throttle $x_\\theta$ and incline angle $\\alpha$ as inputs and performs numerical integration over one timestep to update the state variables. Hint: Integrate to find the current position, velocity, and engine speed first, then propagate those values into the set of equations."
   ]
  },
  {
   "cell_type": "code",
   "execution_count": 2,
   "metadata": {},
   "outputs": [],
   "source": [
    "class Vehicle(Vehicle):  \n",
    "    def step(self, throttle, alpha): #Aceleração throttle e angulo de inclinação alpha como entrada\n",
    "        #1. Integrando ponto a ponto aceleração e velocidade para achar velocidade instantânea e posição \n",
    "        x_dot = self.v #Criando ponto do posição\n",
    "        v_dot = self.a #Criando ponto da aceleração \n",
    "        w_e_dot = self.w_e_dot #Criando ponto da inclinação \n",
    "        self.x += x_dot * self.sample_time #Computando deslocamento em cada amostra\n",
    "        self.v += v_dot * self.sample_time #Computando deslocamento em cada amostra\n",
    "        self.w_e += w_e_dot * self.sample_time #Computando deslocamento em cada amostra\n",
    "        #2. Engine speed and wheel slip equations.\n",
    "        omega_w = self.GR * self.w_e  #Atribuindo a velocidade angular da roda \n",
    "        s = ((omega_w*self.r_e) - self.v)/self.v   #Computando  slip ratio, taxa de escorregamento\n",
    "        F_x = self.c * s if abs(s)<1 else self.F_max  #Computandoa força de tração \n",
    "        #3. Computing forces \n",
    "        F_g = self.m*self.g*np.sin(alpha)  #Computando força gravitacional\n",
    "        R_x = self.c_r1*self.v #Computando\n",
    "        F_aero = self.c_a*(self.v**2) #Computando aerodinâmica\n",
    "        F_load = F_aero+R_x+F_g  #Computando forças totais de resistência\n",
    "        #4. New accelerate  \n",
    "        T_e = throttle*(self.a_0+self.a_1*self.w_e+self.a_2*(self.w_e**2))  #Torque do motor no momento atual\n",
    "        self.a = (F_x - F_load)/self.m  #Nova aceleração a ser utilizada \n",
    "        self.w_e_dot = (T_e - self.GR*self.r_e*F_load)/self.J_e     #Velocidade angular do motor no ponto\n",
    "\n",
    "        pass"
   ]
  },
  {
   "cell_type": "markdown",
   "metadata": {},
   "source": [
    "Using the model, you can send constant throttle inputs to the vehicle in the cell below. You will observe that the velocity converges to a fixed value based on the throttle input due to the aerodynamic drag and tire force limit. A similar velocity profile can be seen by setting a negative incline angle $\\alpha$. In this case, gravity accelerates the vehicle to a terminal velocity where it is balanced by the drag force."
   ]
  },
  {
   "cell_type": "code",
   "execution_count": 3,
   "metadata": {},
   "outputs": [
    {
     "data": {
      "image/png": "[encoded data removed]",
      "text/plain": [
       "<Figure size 432x288 with 1 Axes>"
      ]
     },
     "metadata": {
      "needs_background": "light"
     },
     "output_type": "display_data"
    }
   ],
   "source": [
    "sample_time = 0.01  #tamanho das amostras\n",
    "time_end = 100  #Tempo total de execução \n",
    "model = Vehicle() #Setando a classe como um modelo \n",
    "\n",
    "t_data = np.arange(0,time_end,sample_time)  #Vetor de 0 até o tempo final com espaçamento de sample_time\n",
    "v_data = np.zeros_like(t_data) #Vetor de velocidade com zeros do mesmo tamanho do tempo total de execução \n",
    "\n",
    "# throttle percentage between 0 and 1\n",
    "throttle = 0.2  #Ajustando aceleração \n",
    "\n",
    "# incline angle (in radians)\n",
    "alpha = 0  #Ajustando ângulo da pista \n",
    "\n",
    "for i in range(t_data.shape[0]): #For de 0 até o tamanho do vetor t_data \n",
    "    v_data[i] = model.v   #v_data é incrementado pelo valor atual que tem v na classe que foi renomeada modelo \n",
    "    model.step(throttle, alpha)  #Atualizando tudo \n",
    "    \n",
    "plt.plot(t_data, v_data)\n",
    "plt.show()"
   ]
  },
  {
   "cell_type": "markdown",
   "metadata": {},
   "source": [
    "We will now drive the vehicle over a slope as shown in the diagram below.\n",
    "\n",
    "![ramp](ramp.png)\n",
    "\n",
    "To climb the slope, a trapezoidal throttle input is provided for the next 20 seconds as shown in the figure below. \n",
    "\n",
    "![throttle](throttle.png)\n",
    "\n",
    "The vehicle begins at 20% throttle and gradually increases to 50% throttle. This is maintained for 10 seconds as the vehicle climbs the steeper slope. Afterwards, the vehicle reduces the throttle to 0.\n",
    "\n",
    "In the cell below, implement the ramp angle profile $\\alpha (x)$ and throttle profile $x_\\theta (t)$ and step them through the vehicle dynamics. The vehicle position $x(t)$ is saved in the array $\\textit{x_data}$. This will be used to grade your solution.\n"
   ]
  },
  {
   "cell_type": "code",
   "execution_count": 43,
   "metadata": {
    "scrolled": true
   },
   "outputs": [
    {
     "name": "stdout",
     "output_type": "stream",
     "text": [
      "[0.2  0.23 0.26 0.29 0.32 0.35 0.38 0.41 0.44 0.47]\n",
      "(0.049958395721942765, 0.09966865249116204)\n",
      "0.09966865249116204\n"
     ]
    }
   ],
   "source": [
    "throttle = np.arange(0.2,0.5,0.03) \n",
    "print(throttle)\n",
    "alpha=np.arctan(3/60),np.arctan(9/90)\n",
    "print(alpha)\n",
    "print(alpha[1])"
   ]
  },
  {
   "cell_type": "code",
   "execution_count": null,
   "metadata": {},
   "outputs": [],
   "source": [
    " alpha=np.arctan(3/60),np.arctan(9/90)\n",
    "        x_data[i] = model.x\n",
    "\n",
    "    if x_data[i]>60:\n",
    "        if i>10:\n",
    "            throttle = 0.5\n",
    "            model.step(throttle, alpha[0])  #Atualizando tudo \n",
    "    else:\n",
    "        if i>10:\n",
    "            throttle = 0.5\n",
    "            model.step(throttle, alpha[1])  #Atualizando tudo\n"
   ]
  },
  {
   "cell_type": "code",
   "execution_count": 10,
   "metadata": {
    "scrolled": true
   },
   "outputs": [
    {
     "name": "stdout",
     "output_type": "stream",
     "text": [
      "[0.2    0.2006 0.2012 ... 0.     0.     0.    ]\n"
     ]
    }
   ],
   "source": [
    "throttle = np.zeros_like(t_data)\n",
    "throttle[0:500] = np.arange(0.2,0.5,0.0006) \n",
    "throttle[500:1500] = 0.5\n",
    "throttle[1500:2000] = np.arange(0.5,0,-0.001) \n",
    "\n",
    "print(throttle)"
   ]
  },
  {
   "cell_type": "code",
   "execution_count": 28,
   "metadata": {
    "scrolled": true
   },
   "outputs": [
    {
     "data": {
      "image/png": "[encoded data removed]",
      "text/plain": [
       "<Figure size 432x288 with 1 Axes>"
      ]
     },
     "metadata": {
      "needs_background": "light"
     },
     "output_type": "display_data"
    }
   ],
   "source": [
    "time_end = 20\n",
    "t_data = np.arange(0,time_end,sample_time)\n",
    "x_data = np.zeros_like(t_data)\n",
    "\n",
    "# reset the states\n",
    "model.reset()\n",
    "\n",
    "\n",
    "throttle = np.zeros_like(t_data)\n",
    "throttle[0:500] = np.arange(0.2,0.5,0.0006) \n",
    "throttle[500:1500] = 0.5\n",
    "throttle[1500:2000] = np.arange(0.5,0,-0.001) \n",
    "\n",
    "for i in range(t_data.shape[0]): #For de 0 até o tamanho do vetor t_data \n",
    "    x_data[i] = model.x\n",
    "    v_data[i] = model.v   #v_data é incrementado pelo valor atual que tem v na classe que foi renomeada modelo\n",
    "    if x_data[i]<60: #passando na primeira rampa\n",
    "        model.step(throttle[i], np.arctan(3/60))  #Atualizando tudo \n",
    "    elif x_data[i]<150: #passando na segunda rampa\n",
    "        model.step(throttle[i], np.arctan(9/90))  #Atualizando tudo \n",
    "    else:\n",
    "        model.step(throttle[i], 0)\n",
    "\n",
    "# Plot x vs t for visualization\n",
    "#plt.plot(t_data, x_data)\n",
    "plt.plot(t_data,throttle)\n",
    "plt.show()"
   ]
  },
  {
   "cell_type": "markdown",
   "metadata": {},
   "source": [
    "If you have implemented the vehicle model and inputs correctly, you should see that the vehicle crosses the ramp at ~15s where the throttle input begins to decrease.\n",
    "\n",
    "The cell below will save the time and vehicle inputs as text file named $\\textit{xdata.txt}$. To locate the file, change the end of your web directory to $\\textit{/notebooks/Course_1_Module_4/xdata.txt}$\n",
    "\n",
    "Once you are there, you can download the file and submit to the Coursera grader to complete this assessment."
   ]
  },
  {
   "cell_type": "code",
   "execution_count": 24,
   "metadata": {},
   "outputs": [],
   "source": [
    "data = np.vstack([t_data, x_data]).T\n",
    "np.savetxt('xdata.txt', data, delimiter=', ')"
   ]
  },
  {
   "cell_type": "markdown",
   "metadata": {},
   "source": [
    "Congratulations! You have now completed the assessment! Feel free to test the vehicle model with different inputs in the cell below, and see what trajectories they form. In the next module, you will see the longitudinal model being used for speed control. See you there!"
   ]
  },
  {
   "cell_type": "code",
   "execution_count": null,
   "metadata": {
    "collapsed": true
   },
   "outputs": [],
   "source": [
    "sample_time = 0.01\n",
    "time_end = 30\n",
    "model.reset()\n",
    "\n",
    "t_data = np.arange(0,time_end,sample_time)\n",
    "x_data = np.zeros_like(t_data)\n",
    "\n",
    "# ==================================\n",
    "#  Test various inputs here\n",
    "# ==================================\n",
    "for i in range(t_data.shape[0]):\n",
    "\n",
    "    model.step(0,0)\n",
    "    \n",
    "plt.axis('equal')\n",
    "plt.plot(x_data, y_data)\n",
    "plt.show()"
   ]
  }
 ],
 "metadata": {
  "kernelspec": {
   "display_name": "Python 3",
   "language": "python",
   "name": "python3"
  },
  "language_info": {
   "codemirror_mode": {
    "name": "ipython",
    "version": 3
   },
   "file_extension": ".py",
   "mimetype": "text/x-python",
   "name": "python",
   "nbconvert_exporter": "python",
   "pygments_lexer": "ipython3",
   "version": "3.7.1"
  }
 },
 "nbformat": 4,
 "nbformat_minor": 2
}
