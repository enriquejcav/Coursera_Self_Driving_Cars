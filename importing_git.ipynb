{
  "nbformat": 4,
  "nbformat_minor": 0,
  "metadata": {
    "colab": {
      "name": "importing_git.ipynb",
      "provenance": [],
      "mount_file_id": "1CX3GZqnB3JhLrAhlY9FUuVJXH113Zfb5",
      "authorship_tag": "ABX9TyMeimmm66X68YGhEFdvBNHX",
      "include_colab_link": true
    },
    "kernelspec": {
      "name": "python3",
      "display_name": "Python 3"
    }
  },
  "cells": [
    {
      "cell_type": "markdown",
      "metadata": {
        "id": "view-in-github",
        "colab_type": "text"
      },
      "source": [
        "<a href=\"https://colab.research.google.com/github/enriquejcav/Coursera_Self_Driving_Cars/blob/master/importing_git.ipynb\" target=\"_parent\"><img src=\"https://colab.research.google.com/assets/colab-badge.svg\" alt=\"Open In Colab\"/></a>"
      ]
    },
    {
      "cell_type": "code",
      "metadata": {
        "colab": {
          "base_uri": "https://localhost:8080/"
        },
        "id": "NaX4eIpvqYtO",
        "outputId": "d3ebd7fc-4068-4951-8724-cdb4230b822c"
      },
      "source": [
        "cd '/content/drive/MyDrive/ProjectPixForce'"
      ],
      "execution_count": 2,
      "outputs": [
        {
          "output_type": "stream",
          "text": [
            "/content/drive/MyDrive/ProjectPixForce\n"
          ],
          "name": "stdout"
        }
      ]
    },
    {
      "cell_type": "code",
      "metadata": {
        "colab": {
          "base_uri": "https://localhost:8080/",
          "height": 35
        },
        "id": "2ClUp2VTqmIy",
        "outputId": "0612ed01-d432-478f-c3a4-ad13878ac909"
      },
      "source": [
        "%pwd"
      ],
      "execution_count": 3,
      "outputs": [
        {
          "output_type": "execute_result",
          "data": {
            "application/vnd.google.colaboratory.intrinsic+json": {
              "type": "string"
            },
            "text/plain": [
              "'/content/drive/MyDrive/ProjectPixForce'"
            ]
          },
          "metadata": {
            "tags": []
          },
          "execution_count": 3
        }
      ]
    },
    {
      "cell_type": "code",
      "metadata": {
        "colab": {
          "base_uri": "https://localhost:8080/"
        },
        "id": "-IV5Ag2mqq4p",
        "outputId": "8d8453d0-ac45-49fa-ee73-d1c9e29bf555"
      },
      "source": [
        "!git clone https://github.com/enriquejcav/desafio_visaocomputacional_enrique-cavalcante.git"
      ],
      "execution_count": 5,
      "outputs": [
        {
          "output_type": "stream",
          "text": [
            "Cloning into 'desafio_visaocomputacional_enrique-cavalcante'...\n",
            "remote: Enumerating objects: 6675, done.\u001b[K\n",
            "remote: Counting objects: 100% (6675/6675), done.\u001b[K\n",
            "remote: Compressing objects: 100% (6672/6672), done.\u001b[K\n",
            "remote: Total 6675 (delta 0), reused 6672 (delta 0), pack-reused 0\u001b[K\n",
            "Receiving objects: 100% (6675/6675), 34.30 MiB | 11.66 MiB/s, done.\n",
            "Checking out files: 100% (6674/6674), done.\n"
          ],
          "name": "stdout"
        }
      ]
    },
    {
      "cell_type": "code",
      "metadata": {
        "id": "9HrTJ16xsSfY"
      },
      "source": [
        ""
      ],
      "execution_count": null,
      "outputs": []
    }
  ]
}